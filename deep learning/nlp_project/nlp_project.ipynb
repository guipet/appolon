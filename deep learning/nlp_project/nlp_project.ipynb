{
 "cells": [
  {
   "cell_type": "markdown",
   "metadata": {},
   "source": [
    "# Deep Learning for NLP - Project"
   ]
  },
  {
   "cell_type": "markdown",
   "metadata": {},
   "source": [
    "RULES:\n",
    "\n",
    "* Do not create any additional cell\n",
    "\n",
    "* Fill in the blanks\n",
    "\n",
    "* All cells should be runnable (modulo trivial compatibility bugs that we'd fix)\n",
    "\n",
    "* 4 / 20 points will be allocated to the clarity of your code\n",
    "\n",
    "* Efficient code will have a bonus\n",
    "\n",
    "DELIVERABLE:\n",
    "\n",
    "* the pdf with your answers\n",
    "* this notebook\n",
    "* the predictions of the SST test set\n",
    "\n",
    "DO NOT INCLUDE THE DATASETS IN THE DELIVERABLE.."
   ]
  },
  {
   "cell_type": "code",
   "execution_count": 1,
   "metadata": {},
   "outputs": [],
   "source": [
    "import os \n",
    "\n",
    "os.chdir(\"/Users/guillaume/Desktop/nlp_project\")"
   ]
  },
  {
   "cell_type": "code",
   "execution_count": 2,
   "metadata": {
    "jupyter": {
     "outputs_hidden": false
    }
   },
   "outputs": [],
   "source": [
    "# Python 3.6 or above is required\n",
    "from collections import defaultdict\n",
    "import gzip\n",
    "import numpy as np\n",
    "from pathlib import Path"
   ]
  },
  {
   "cell_type": "code",
   "execution_count": 3,
   "metadata": {},
   "outputs": [],
   "source": [
    "from urllib.request import urlretrieve"
   ]
  },
  {
   "cell_type": "code",
   "execution_count": 4,
   "metadata": {},
   "outputs": [],
   "source": [
    "PATH_TO_DATA = Path('data/')\n",
    "# Download word vectors, might take a few minutes and about ~3GB of storage space\n",
    "en_embeddings_path = PATH_TO_DATA / 'cc.en.300.vec.gz'\n",
    "if not en_embeddings_path.exists():\n",
    "    urlretrieve('https://dl.fbaipublicfiles.com/fasttext/vectors-crawl/cc.en.300.vec.gz', en_embeddings_path)\n",
    "fr_embeddings_path = PATH_TO_DATA / 'cc.fr.300.vec.gz'\n",
    "if not fr_embeddings_path.exists():\n",
    "    urlretrieve('https://dl.fbaipublicfiles.com/fasttext/vectors-crawl/cc.fr.300.vec.gz', fr_embeddings_path)"
   ]
  },
  {
   "cell_type": "markdown",
   "metadata": {},
   "source": [
    "# 1) Monolingual (English) word embeddings "
   ]
  },
  {
   "cell_type": "code",
   "execution_count": 5,
   "metadata": {},
   "outputs": [],
   "source": [
    "class Word2Vec():\n",
    "\n",
    "    def __init__(self, filepath, vocab_size=50000):\n",
    "        self.words, self.embeddings = self.load_wordvec(filepath, vocab_size)\n",
    "        # Mappings for O(1) retrieval:\n",
    "        self.word2id = {word: idx for idx, word in enumerate(self.words)}\n",
    "        self.id2word = {idx: word for idx, word in enumerate(self.words)}\n",
    "    \n",
    "    def load_wordvec(self, filepath, vocab_size):\n",
    "        assert str(filepath).endswith('.gz')\n",
    "        words = []\n",
    "        embeddings = []\n",
    "        with gzip.open(filepath, 'rt') as f:  # Read compressed file directly\n",
    "            next(f)  # Skip header\n",
    "            for i, line in enumerate(f):\n",
    "                word, vec = line.split(' ', 1)\n",
    "                words.append(word)                                 \n",
    "                embeddings.append(np.fromstring(vec, sep=' '))     \n",
    "                if i == (vocab_size - 1):\n",
    "                    break\n",
    "        print('Loaded %s pretrained word vectors' % (len(words)))\n",
    "        return words, np.vstack(embeddings)\n",
    "    \n",
    "    def encode(self, word):\n",
    "        '''\n",
    "        Inputs:\n",
    "        -word : mot\n",
    "        \n",
    "        Output:\n",
    "        - l'embedding du mot correspondant\n",
    "        '''\n",
    "        if word in self.words : \n",
    "            row = self.embeddings[self.word2id[word],:]\n",
    "            return(row)\n",
    "        \n",
    "        else : \n",
    "            return(np.zeros((1, self.embeddings.shape[1])))  #si le mot n'est pas dans le dictionnaire\n",
    "    \n",
    "    def score(self, word1, word2):\n",
    "        '''\n",
    "        Inputs:\n",
    "        -word1, word2 : mot\n",
    "        \n",
    "        Output:\n",
    "        -score des deux mots\n",
    "        '''\n",
    "        \n",
    "        if (word1 in self.words) and (word2 in self.words):  #si les mots sont dans le dictionnaire\n",
    "            #on met sous forme d'embedding les mots\n",
    "            emb1 = self.encode(word1)\n",
    "            emb2 = self.encode(word2)\n",
    "            #on calcule le score\n",
    "            score = np.dot(emb1, emb2)/ (np.linalg.norm(emb1) * np.linalg.norm(emb2))\n",
    "            return(score)\n",
    "        \n",
    "        else:  #si le mot n'est pas dans le dictionnaire\n",
    "            return(0) \n",
    "            \n",
    "\n",
    "    def most_similar(self, word, k=5):\n",
    "        '''\n",
    "        Inputs:\n",
    "        - word : mot\n",
    "        - k : un réel \n",
    "        \n",
    "        Output:\n",
    "        - best_words : liste des k+1 les plus similaire à word (on renvoie en 1er word pour vérifier la fonction\n",
    "        + les k autres)\n",
    "        '''\n",
    "        #on calcule l'ensemble des scores\n",
    "        liste_score = [self.score(word, w) for w in self.words] \n",
    "        #on trie et ressort les k+1 meilleures mots.\n",
    "        index = np.argsort(liste_score)[::-1][0:k+1]\n",
    "        best_words = [ self.id2word[idx] for idx in index]\n",
    "        \n",
    "        return(best_words)\n",
    "        \n",
    "        "
   ]
  },
  {
   "cell_type": "code",
   "execution_count": 7,
   "metadata": {},
   "outputs": [
    {
     "name": "stdout",
     "output_type": "stream",
     "text": [
      "Loaded 50000 pretrained word vectors\n",
      "cat tree 0.2644975466165475\n",
      "cat dog 0.7078641298542562\n",
      "cat pet 0.6753313359976381\n",
      "Paris France 0.6892958925806542\n",
      "Paris Germany 0.4051242286737548\n",
      "Paris baguette 0.29399958277802224\n",
      "Paris donut -0.006588507552348005\n",
      "['cat', 'cats', 'kitty', 'kitten', 'feline', 'dog']\n",
      "['dog', 'dogs', 'puppy', 'pup', 'canine', 'pet']\n",
      "['dogs', 'dog', 'cats', 'puppies', 'Dogs', 'pets']\n",
      "['Paris', 'France', 'Parisian', 'Marseille', 'Brussels', 'Strasbourg']\n",
      "['Germany', 'Austria', 'Europe', 'Berlin', 'Hamburg', 'Bavaria']\n"
     ]
    }
   ],
   "source": [
    "word2vec = Word2Vec(en_embeddings_path, vocab_size=50000)\n",
    "\n",
    "# You will be evaluated on the output of the following:\n",
    "for word1, word2 in zip(('cat', 'cat', 'cat', 'Paris', 'Paris', 'Paris', 'Paris'), ('tree', 'dog', 'pet', 'France', 'Germany', 'baguette', 'donut')):\n",
    "    print(word1, word2, word2vec.score(word1, word2))\n",
    "for word in ['cat', 'dog', 'dogs', 'Paris', 'Germany']:\n",
    "    print(word2vec.most_similar(word))"
   ]
  },
  {
   "cell_type": "code",
   "execution_count": 68,
   "metadata": {
    "jupyter": {
     "outputs_hidden": false
    }
   },
   "outputs": [],
   "source": [
    "class BagOfWords():\n",
    "    \n",
    "    def __init__(self, word2vec):\n",
    "        self.word2vec = word2vec\n",
    "    \n",
    "    def build_idf(self, sentences):\n",
    "        '''\n",
    "        Inputs :\n",
    "        - sentences : liste de phrases\n",
    "        \n",
    "        Ouput : \n",
    "        - idf : dictionnaire des idf des mots\n",
    "        '''\n",
    "        #On construit le dictionnaire des mots. (ref \"https://www.journaldunet.fr/web-tech/developpement/1202879-python-comment-verifier-si-une-cle-key-existe-dans-un-dictionnaire/\")\n",
    "        idf = {}\n",
    "        for phrase in sentences:\n",
    "            for word in phrase.split(' '):\n",
    "                idf[word] = idf.get(word, 0) + 1\n",
    "        \n",
    "        #on calcule l'idf des mots\n",
    "        for w in idf.keys():\n",
    "            idf[w] = np.log10(len(sentences) / (idf[w]))\n",
    "        return idf\n",
    "    \n",
    "    def encode(self, sentence, idf=None):\n",
    "        '''\n",
    "        Inputs:\n",
    "        - sentence : une phrase\n",
    "        -idf : None si on encode sans tenir compte de l'idf. True si oui\n",
    "        \n",
    "        Output:\n",
    "        - la phrase encodée\n",
    "        '''\n",
    "       \n",
    "        if idf is None:\n",
    "            # mean of word vectors\n",
    "            emb_sentence = [self.word2vec.encode(word) for word in sentence.split(' ') if word in self.word2vec.words]\n",
    "            return( np.mean(emb_sentence, axis = 0) )\n",
    " \n",
    "        else:\n",
    "            # idf-weighted mean of word vectors\n",
    "            emb_sentence = np.array([self.word2vec.encode(word)*idf[word] for word in sentence.split(' ') if word in self.word2vec.words])\n",
    "            idf_sentence = [idf[word] for word in sentence.split(' ')]\n",
    "            return( np.sum(emb_sentence, axis = 0) / np.sum(idf_sentence) ) \n",
    "\n",
    "    def score(self, sentence1, sentence2, idf=None):\n",
    "        ''' \n",
    "        Inputs : \n",
    "        - sentence1, sentence2 : phrase (encodée ou non)\n",
    "        - idf : None si on encode sans tenir compte de l'idf. True si oui\n",
    "        \n",
    "        Output:\n",
    "        - score des deux phrases\n",
    "        '''\n",
    "        \n",
    "        #si sentences1 & sentence2 sont en string, on les encode\n",
    "        if type(sentence1) == str : \n",
    "            sentence1 = self.encode(sentence1, idf)\n",
    "            sentence2 = self.encode(sentence2, idf)\n",
    "        \n",
    "        #Pour éviter des problèmes dans la formule du score    \n",
    "        if (np.linalg.norm(sentence1) == 0) or (np.linalg.norm(sentence2) == 0):\n",
    "            return(0)\n",
    "        \n",
    "        else : \n",
    "            return( sentence1.dot(sentence2) / (np.linalg.norm(sentence1) * np.linalg.norm(sentence2)) )\n",
    "        \n",
    "    \n",
    "    def most_similar(self, sentence, sentences, idf=None, k=5):\n",
    "        '''\n",
    "        Inputs : \n",
    "        - sentence : phrase objective\n",
    "        - sentences : listes de phrases\n",
    "        - k : réel \n",
    "        \n",
    "        Output:\n",
    "        - phrase : les k+1 phrases les plus similaires (on renvoie en 1er sentence pour vérifier la fonction\n",
    "        + les k autres)'''\n",
    "        \n",
    "        # Return most similar sentences\n",
    "        query = self.encode(sentence, idf)\n",
    "        keys = np.vstack([self.encode(sentence, idf) for sentence in sentences]) \n",
    "        \n",
    "        #liste des score entre sentence et notre liste \n",
    "        score = [self.score(query, sent, idf) for sent in keys]   \n",
    "        \n",
    "        #on prend les k phrases correspondantes\n",
    "        index = np.argsort(score)[::-1][0:k+1]\n",
    "        phrase = [ sentences[idx] for idx in index]\n",
    "        return( phrase )"
   ]
  },
  {
   "cell_type": "code",
   "execution_count": 21,
   "metadata": {
    "jupyter": {
     "outputs_hidden": false
    }
   },
   "outputs": [
    {
     "name": "stdout",
     "output_type": "stream",
     "text": [
      "Loaded 50000 pretrained word vectors\n",
      "\n",
      "\tAverage of word embeddings\n",
      "1 man singing and 1 man playing a saxophone in a concert . \n",
      "10 people venture out to go crosscountry skiing . \n",
      "0.7065220648251476\n",
      "1 smiling african american boy . \n",
      "1) 1 smiling african american boy . \n",
      "2) 2 woman dancing while pointing . \n",
      "3) 5 women and 1 man are smiling for the camera . \n",
      "4) a small boy following 4 geese . \n",
      "5) 2 female babies eating chips . \n",
      "6) a young boy and 2 girls open christmas presents . \n",
      "\n",
      "\tidf weighted average of word embeddings\n",
      "1 man singing and 1 man playing a saxophone in a concert . \n",
      "10 people venture out to go crosscountry skiing . \n",
      "0.6230172138542663\n",
      "a young boy and 2 girls open christmas presents . \n",
      "1) a young boy and 2 girls open christmas presents . \n",
      "2) 3 girls and one boy playing in the street . \n",
      "3) a group of friends , 3 boys and 2 girls , jump in the air holding hands for a photo . \n",
      "4) five children , 3 boys and 2 girls playing soccer in a grass field . \n",
      "5) 2 kids holding hands and smiling . \n",
      "6) 2 young indian girls dressed in colorful dresses walking . \n"
     ]
    }
   ],
   "source": [
    "word2vec = Word2Vec(en_embeddings_path, vocab_size=50000)\n",
    "sentence2vec = BagOfWords(word2vec)\n",
    "\n",
    "# Load sentences in \"PATH_TO_DATA/sentences.txt\"\n",
    "filepath = PATH_TO_DATA / 'sentences.txt'\n",
    "with open(filepath, 'r') as f:\n",
    "    sentences = [line.strip('\\n') for line in f]\n",
    "\n",
    "\n",
    "# You will be evaluated on the output of the following:\n",
    "print('\\n\\tAverage of word embeddings')\n",
    "sentence1 = sentences[7]\n",
    "sentence2 = sentences[13]\n",
    "print(sentence1)\n",
    "print(sentence2)\n",
    "print(sentence2vec.score(sentence1, sentence2))\n",
    "sentence = sentences[10]\n",
    "similar_sentences = sentence2vec.most_similar(sentence, sentences)  # BagOfWords-mean\n",
    "print(sentence)\n",
    "for i, sentence in enumerate(similar_sentences):\n",
    "    print(str(i+1) + ')', sentence)\n",
    "\n",
    "# Build idf scores for each word\n",
    "idf = sentence2vec.build_idf(sentences)\n",
    "\n",
    "print('\\n\\tidf weighted average of word embeddings')\n",
    "print(sentence1)\n",
    "print(sentence2)\n",
    "print(sentence2vec.score(sentence1, sentence2, idf))\n",
    "similar_sentences = sentence2vec.most_similar(sentence, sentences, idf)  # BagOfWords-idf\n",
    "print(sentence)\n",
    "for i, sentence in enumerate(similar_sentences):\n",
    "    print(str(i+1) + ')', sentence)"
   ]
  },
  {
   "cell_type": "markdown",
   "metadata": {},
   "source": [
    "# 2) Multilingual (English-French) word embeddings"
   ]
  },
  {
   "cell_type": "markdown",
   "metadata": {},
   "source": [
    "Let's consider a bilingual dictionary of size V_a (e.g French-English).\n",
    "\n",
    "Let's define **X** and **Y** the **French** and **English** matrices.\n",
    "\n",
    "They contain the embeddings associated to the words in the bilingual dictionary.\n",
    "\n",
    "We want to find a **mapping W** that will project the source word space (e.g French) to the target word space (e.g English).\n",
    "\n",
    "Procrustes : **W\\* = argmin || W.X - Y ||  s.t  W^T.W = Id**\n",
    "has a closed form solution:\n",
    "**W = U.V^T  where  U.Sig.V^T = SVD(Y.X^T)**\n",
    "\n",
    "In what follows, you are asked to: "
   ]
  },
  {
   "cell_type": "code",
   "execution_count": 39,
   "metadata": {},
   "outputs": [],
   "source": [
    "class MultilingualWordAligner:\n",
    "    \n",
    "    def __init__(self, fr_word2vec, en_word2vec):\n",
    "        self.fr_word2vec = fr_word2vec\n",
    "        self.en_word2vec = en_word2vec\n",
    "        self.aligned_fr_embeddings = self.get_aligned_fr_embeddings()\n",
    "        \n",
    "    def get_aligned_fr_embeddings(self):\n",
    "        \n",
    "        # 1 - Get words that appear in both vocabs (= identical character strings)\n",
    "        commun = [word for word in self.fr_word2vec.words if word in self.en_word2vec.words]\n",
    "        \n",
    "        #on encode nos mots\n",
    "        X, Y = np.empty([300,len(commun)]),np.empty([300,len(commun)])\n",
    "        for i, word in enumerate(commun) : \n",
    "            X[:,i] = self.fr_word2vec.encode(word)\n",
    "            Y[:,i] = self.en_word2vec.encode(word)\n",
    "        assert X.shape[0] == 300 and Y.shape[0] == 300\n",
    "                          \n",
    "        # 2 - Solve the Procrustes using the numpy package and: np.linalg.svd() and get the optimal W\n",
    "        U, s, Vh = np.linalg.svd(Y.dot(X.T))\n",
    "        W = U.dot(Vh)\n",
    "        self.W = W\n",
    "\n",
    "        return np.matmul(self.fr_word2vec.embeddings, W.transpose())\n",
    "        \n",
    "    def get_closest_english_words(self, fr_word, k=3):\n",
    "        '''\n",
    "        Inputs:\n",
    "        - fr_word : mot en fançais\n",
    "        - k : réel\n",
    "        \n",
    "        Output:\n",
    "        -renvoie les k mots les plus proches dans la traduction\n",
    "        '''\n",
    "        \n",
    "        fr_obj = self.fr_word2vec.encode(fr_word)\n",
    "        aligne_fr = self.W.dot(fr_obj)\n",
    "        en_embeds = self.en_word2vec.embeddings\n",
    "        norm_prod = np.linalg.norm(aligne_fr)*np.linalg.norm(en_embeds, axis=1)\n",
    "        scores = en_embeds @ aligne_fr / norm_prod\n",
    "        best_k = np.flip(np.argsort(scores))[:k]\n",
    "        return [self.en_word2vec.words[idx] for idx in best_k]\n",
    "            \n",
    "        "
   ]
  },
  {
   "cell_type": "code",
   "execution_count": 15,
   "metadata": {},
   "outputs": [
    {
     "name": "stdout",
     "output_type": "stream",
     "text": [
      "Loaded 50000 pretrained word vectors\n",
      "Loaded 50000 pretrained word vectors\n",
      "----------\n",
      "fr: \"chat\"\n",
      "en: \"cat\"\n",
      "en: \"kitten\"\n",
      "en: \"kitty\"\n",
      "----------\n",
      "fr: \"chien\"\n",
      "en: \"dog\"\n",
      "en: \"cat\"\n",
      "en: \"pet\"\n",
      "----------\n",
      "fr: \"voiture\"\n",
      "en: \"car\"\n",
      "en: \"vehicle\"\n",
      "en: \"automobile\"\n",
      "----------\n",
      "fr: \"zut\"\n",
      "en: \"oops\"\n",
      "en: \"Ah\"\n",
      "en: \"ah\"\n"
     ]
    }
   ],
   "source": [
    "fr_word2vec = Word2Vec(fr_embeddings_path, vocab_size=50000)\n",
    "en_word2vec = Word2Vec(en_embeddings_path, vocab_size=50000)\n",
    "multilingual_word_aligner = MultilingualWordAligner(fr_word2vec, en_word2vec)\n",
    "\n",
    "# You will be evaluated on the output of the following:\n",
    "fr_words = ['chat', 'chien', 'voiture', 'zut']\n",
    "k = 3\n",
    "for fr_word in fr_words:\n",
    "    print('-' * 10)\n",
    "    print(f'fr: \"{fr_word}\"')\n",
    "    en_words = multilingual_word_aligner.get_closest_english_words(fr_word, k=3)\n",
    "    for en_word in en_words:\n",
    "        print(f'en: \"{en_word}\"')"
   ]
  },
  {
   "cell_type": "markdown",
   "metadata": {},
   "source": [
    "If you want to dive deeper on this subject: https://github.com/facebookresearch/MUSE"
   ]
  },
  {
   "cell_type": "markdown",
   "metadata": {},
   "source": [
    "# 3) Sentence classification with BoV and scikit-learn"
   ]
  },
  {
   "cell_type": "code",
   "execution_count": 6,
   "metadata": {},
   "outputs": [],
   "source": [
    "# 1 - Load train/dev/test of Stanford Sentiment TreeBank (SST)\n",
    "#     (https://nlp.stanford.edu/~socherr/EMNLP2013_RNTN.pdf)\n",
    "train_filepath = PATH_TO_DATA / 'SST/stsa.fine.train'\n",
    "dev_filepath = PATH_TO_DATA / 'SST/stsa.fine.dev'\n",
    "test_filepath = PATH_TO_DATA / 'SST/stsa.fine.test.X'\n",
    "\n",
    "with open(train_filepath, 'r') as f:\n",
    "    phrases = [line.strip('\\n') for line in f]\n",
    "    y_train = [int(line[0]) for line in phrases]\n",
    "    x_train = [line[2:] for line in phrases]\n",
    "    \n",
    "with open(dev_filepath, 'r') as f:\n",
    "    phrases = [line.strip('\\n') for line in f]\n",
    "    y_dev = [int(line[0]) for line in phrases]\n",
    "    x_dev = [line[2:] for line in phrases]\n",
    "\n",
    "with open(train_filepath, 'r') as f:\n",
    "    phrases = [line.strip('\\n') for line in f]\n",
    "    x_test = [line for line in phrases]\n",
    "    \n",
    "#les x sont nos phrases    "
   ]
  },
  {
   "cell_type": "code",
   "execution_count": 85,
   "metadata": {},
   "outputs": [
    {
     "name": "stdout",
     "output_type": "stream",
     "text": [
      "Loaded 50000 pretrained word vectors\n"
     ]
    }
   ],
   "source": [
    "word2vec = Word2Vec(en_embeddings_path, vocab_size=50000)\n",
    "sentence2vec = BagOfWords(word2vec)\n",
    "\n",
    "#sans idf\n",
    "x_train_emb = [sentence2vec.encode(x_train[i]) for i in range(len(x_train))]\n",
    "x_dev_emb = [sentence2vec.encode(x_dev[i]) for i in range(len(x_dev))]\n",
    "x_test_emb = [sentence2vec.encode(x_test[i]) for i in range(len(x_test))]\n",
    "\n",
    "#avec idf\n",
    "idf = sentence2vec.build_idf(x_train+x_dev+x_test)\n",
    "\n",
    "x_train_emb_idf = [sentence2vec.encode(x_train[i], idf) for i in range(len(x_train))]\n",
    "x_dev_emb_idf = [sentence2vec.encode(x_dev[i], idf) for i in range(len(x_dev))]\n",
    "x_test_emb_idf = [sentence2vec.encode(x_test[i], idf) for i in range(len(x_test))]\n",
    "\n",
    "\n",
    "#on a nos phrases encodées & on les normalise\n",
    "from sklearn.preprocessing import scale\n",
    "\n",
    "x_train_emb_scale = scale(x_train_emb, axis=0)\n",
    "x_dev_emb_scale = scale(x_dev_emb, axis=0)\n",
    "x_test_emb_scale = scale(x_test_emb, axis=0)\n",
    "\n",
    "x_train_emb_idf_scale = scale(x_train_emb_idf, axis=0)\n",
    "x_dev_emb_idf_scale = scale(x_dev_emb_idf, axis=0)\n",
    "x_test_emb_idf_scale = scale(x_test_emb_idf, axis=0)"
   ]
  },
  {
   "cell_type": "code",
   "execution_count": 86,
   "metadata": {},
   "outputs": [
    {
     "name": "stdout",
     "output_type": "stream",
     "text": [
      "Sans idf, mon meilleur score est 0.410535876475931 avec un paramètre de  {'C': 0.01}\n",
      "Avec idf, mon meilleur score est 0.40417801998183467 avec un paramètre de  {'C': 0.01}\n"
     ]
    }
   ],
   "source": [
    "from sklearn.model_selection import GridSearchCV\n",
    "from sklearn.linear_model import LogisticRegression\n",
    "import matplotlib.pyplot as plt\n",
    "import warnings\n",
    "warnings.filterwarnings('ignore')\n",
    "# 3 - Learn Logistic Regression on top of sentence embeddings using scikit-learn\n",
    "#     (consider tuning the L2 regularization on the dev set) \n",
    "\n",
    "parameters = {'C':[0.01, 0.05, 0.1, 0.5, 1, 2]}\n",
    "\n",
    "#sans idf\n",
    "clf = GridSearchCV(LogisticRegression(penalty=\"l2\", solver=\"liblinear\", multi_class='ovr', tol=1e-6), parameters)\n",
    "clf.fit(x_train_emb_scale, y_train)\n",
    "print(\"Sans idf, mon meilleur score est\", clf.score(x_dev_emb_scale,y_dev), \"avec un paramètre de \", clf.best_params_)\n",
    "\n",
    "#avec idf\n",
    "clf_idf = GridSearchCV(LogisticRegression(penalty=\"l2\", solver=\"liblinear\", multi_class='ovr', tol=1e-6), parameters)\n",
    "clf_idf.fit(x_train_emb_idf_scale, y_train)\n",
    "print(\"Avec idf, mon meilleur score est\", clf_idf.score(x_dev_emb_idf_scale,y_dev), \"avec un paramètre de \", clf_idf.best_params_)\n"
   ]
  },
  {
   "cell_type": "code",
   "execution_count": 52,
   "metadata": {},
   "outputs": [],
   "source": [
    "# 4 - Produce 2210 predictions for the test set (in the same order). One line = one prediction (=0,1,2,3,4).\n",
    "#     Attach the output file \"logreg_bov_y_test_sst.txt\" to your deliverable.\n",
    "#     You will be evaluated on the results of the test set\n",
    "\n",
    "\n",
    "pred_test= clf.predict(x_test_emb_scale)\n",
    "\n",
    "with open(\"logreg_bov_y_test_sst.txt\", 'w+') as f:\n",
    "    for p in pred_test:\n",
    "        f.write(str(p) + '\\n')"
   ]
  },
  {
   "cell_type": "code",
   "execution_count": 74,
   "metadata": {},
   "outputs": [
    {
     "name": "stdout",
     "output_type": "stream",
     "text": [
      "Random forest sans idf...\n",
      "La précision du BoW classique pour le train_set est 0.8880125908929122\n",
      "La précision du BoW classique pour le dev_set est 0.22311638117927046\n",
      "Random forest avec idf...\n",
      "La précision du BoW avec Idf pour le train_set est 0.8960507527424993\n",
      "La précision du BoW avec Idf pour le dev_set est 0.2352078167484959\n",
      "Réseau de neurones sans idf...\n",
      "La précision du BoW classique pour le train_set est 0.5829822097378277\n",
      "La précision du BoW classique pour le dev_set est 0.3869209809264305\n",
      "Réseau de neurones avec idf...\n",
      "La précision du BoW avec Idf pour le train_set est 0.6308520599250936\n",
      "La précision du BoW avec Idf pour le dev_set est 0.38419618528610355\n"
     ]
    }
   ],
   "source": [
    "# BONUS!\n",
    "# 5 - Try to improve performance with another classifier\n",
    "#     Attach the output file \"XXX_bov_y_test_sst.txt\" to your deliverable (where XXX = the name of the classifier)\n",
    "\n",
    "# Cette cellule met beaucoup de temps à runner à cause des nombreux entraînements\n",
    "\n",
    "#Essayons avec une random forest\n",
    "from sklearn.ensemble import RandomForestRegressor\n",
    "\n",
    "#sans idf\n",
    "print('Random forest sans idf...')\n",
    "ran_for = RandomForestRegressor()\n",
    "ran_for.fit(x_train_emb_scale, y_train)\n",
    "\n",
    "print(\"La précision du BoW classique pour le train_set est\", ran_for.score(x_train_emb_scale, y_train))\n",
    "print(\"La précision du BoW classique pour le dev_set est\", ran_for.score(x_dev_emb_scale, y_dev))\n",
    "\n",
    "\n",
    "#avec idf\n",
    "print('Random forest avec idf...')\n",
    "ran_for_idf = RandomForestRegressor()\n",
    "ran_for_idf.fit(x_train_emb_idf_scale , y_train)\n",
    "\n",
    "print(\"La précision du BoW avec Idf pour le train_set est\", ran_for_idf.score(x_train_emb_idf_scale , y_train))\n",
    "print(\"La précision du BoW avec Idf pour le dev_set est\", ran_for.score(x_dev_emb_idf_scale, y_dev))\n",
    "\n",
    "\n",
    "\n",
    "#Essayons avec un réseau de neurones\n",
    "from sklearn.neural_network import MLPClassifier\n",
    "\n",
    "#sans idf\n",
    "print('Réseau de neurones sans idf...')\n",
    "mlp = MLPClassifier(random_state=10, hidden_layer_sizes=(128,), alpha=1e-1, early_stopping=True)\n",
    "mlp.fit(x_train_emb_scale, y_train)\n",
    "\n",
    "print(\"La précision du BoW classique pour le train_set est\", mlp.score(x_train_emb_scale, y_train))\n",
    "print(\"La précision du BoW classique pour le dev_set est\", mlp.score(x_dev_emb_scale, y_dev))\n",
    "\n",
    "\n",
    "#avec idf\n",
    "print('Réseau de neurones avec idf...')\n",
    "mlp_idf = MLPClassifier(random_state=10, hidden_layer_sizes=(128,), alpha=1e-1, early_stopping=True)\n",
    "mlp_idf.fit(x_train_emb_idf_scale, y_train)\n",
    "\n",
    "print(\"La précision du BoW avec Idf pour le train_set est\", mlp_idf.score(x_train_emb_idf_scale, y_train))\n",
    "print(\"La précision du BoW avec Idf pour le dev_set est\", mlp_idf.score(x_dev_emb_idf_scale, y_dev))\n",
    "\n",
    "\n",
    "#on envoie le meilleur\n",
    "pred_test= mlp.predict(x_test_emb_scale)\n",
    "\n",
    "with open(\"MLP_bov_y_test_sst.txt\", 'w+') as f:\n",
    "    for p in pred_test:\n",
    "        f.write(str(p) + '\\n')"
   ]
  },
  {
   "cell_type": "markdown",
   "metadata": {},
   "source": [
    "# 4) Sentence classification with LSTMs in Keras"
   ]
  },
  {
   "cell_type": "markdown",
   "metadata": {},
   "source": [
    "## 4.1 - Preprocessing"
   ]
  },
  {
   "cell_type": "code",
   "execution_count": 7,
   "metadata": {
    "jupyter": {
     "outputs_hidden": false
    }
   },
   "outputs": [
    {
     "name": "stderr",
     "output_type": "stream",
     "text": [
      "Using TensorFlow backend.\n"
     ]
    }
   ],
   "source": [
    "import tensorflow as tf\n",
    "import keras.preprocessing \n",
    "from keras.utils import to_categorical\n",
    "import warnings\n",
    "from keras.preprocessing import text\n",
    "warnings.filterwarnings('ignore')"
   ]
  },
  {
   "cell_type": "code",
   "execution_count": 8,
   "metadata": {},
   "outputs": [
    {
     "name": "stdout",
     "output_type": "stream",
     "text": [
      "(8544, 5)\n"
     ]
    }
   ],
   "source": [
    "# 1 - Using the same dataset, transform text to integers using tf.keras.preprocessing.text.one_hot function\n",
    "#     https://keras.io/preprocessing/text/\n",
    "\n",
    "# TYPE CODE HERE\n",
    "#from keras.preprocessing import text\n",
    "#from keras.utils import to_categorical\n",
    "\n",
    "vocab = 50000\n",
    "\n",
    "x_train_pp = [keras.preprocessing.text.one_hot(phrase, n = vocab, split = ' ') for phrase in x_train]\n",
    "x_dev_pp = [keras.preprocessing.text.one_hot(phrase, n = vocab, split = ' ') for phrase in x_dev]\n",
    "x_test_pp = [keras.preprocessing.text.one_hot(phrase, n = vocab, split = ' ') for phrase in x_test]\n",
    "\n",
    "\n",
    "y_train = to_categorical(y_train)\n",
    "y_dev = to_categorical(y_dev)\n",
    "print(y_train.shape)"
   ]
  },
  {
   "cell_type": "markdown",
   "metadata": {},
   "source": [
    "**Padding input data**\n",
    "\n",
    "Models in Keras (and elsewhere) take batches of sentences of the same length as input. It is because Deep Learning framework have been designed to handle well Tensors, which are particularly suited for fast computation on the GPU.\n",
    "\n",
    "Since sentences have different sizes, we \"pad\" them. That is, we add dummy \"padding\" tokens so that they all have the same length.\n",
    "\n",
    "The input to a Keras model thus has this size : (batchsize, maxseqlen) where maxseqlen is the maximum length of a sentence in the batch."
   ]
  },
  {
   "cell_type": "code",
   "execution_count": 9,
   "metadata": {},
   "outputs": [],
   "source": [
    "# 2 - Pad your sequences using tf.keras.preprocessing.sequence.pad_sequences\n",
    "#     https://keras.io/preprocessing/sequence/\n",
    "\n",
    "# TYPE CODE HERE\n",
    "from keras.preprocessing.sequence import pad_sequences\n",
    "\n",
    "\n",
    "#parmi toutes, 44 pour le dev, 48 pour le train et 50 pour le test. On garde 50\n",
    "x_train_pad = pad_sequences(x_train_pp, maxlen = 50)\n",
    "x_dev_pad = pad_sequences(x_dev_pp, maxlen = 50)\n",
    "x_test_pad = pad_sequences(x_test_pp, maxlen = 50)"
   ]
  },
  {
   "cell_type": "markdown",
   "metadata": {},
   "source": [
    "## 4.2 - Design and train your model"
   ]
  },
  {
   "cell_type": "code",
   "execution_count": 10,
   "metadata": {},
   "outputs": [],
   "source": [
    "# 3 - Design your encoder + classifier using tensorflow.keras.layers\n",
    "#     In Keras, Torch and other deep learning framework, we create a \"container\" which is the Sequential() module.\n",
    "#     Then we add components to this container : the lookup-table, the LSTM, the classifier etc.\n",
    "#     All of these components are contained in the Sequential() and are trained together.\n",
    "#     Note that the embedding layer is initialized randomly and does not take advantage of pre-trained word embeddings.\n",
    "\n",
    "\n",
    "# ADAPT CODE BELOW\n",
    "\n",
    "\n",
    "from tensorflow.keras.models import Sequential\n",
    "from tensorflow.keras.layers import Embedding, LSTM, Dense, Activation\n",
    "\n",
    "embed_dim  = 300    # word embedding dimension\n",
    "nhid       = 100    # number of hidden units in the LSTM\n",
    "vocab_size = 50000  # size of the vocabulary\n",
    "n_classes  = 5\n",
    "\n",
    "model = Sequential()\n",
    "model.add(Embedding(vocab_size, embed_dim))\n",
    "model.add(LSTM(nhid, dropout=0.2, recurrent_dropout=0.2))\n",
    "model.add(Dense(n_classes, activation='softmax'))"
   ]
  },
  {
   "cell_type": "code",
   "execution_count": 40,
   "metadata": {
    "jupyter": {
     "outputs_hidden": false
    }
   },
   "outputs": [
    {
     "name": "stdout",
     "output_type": "stream",
     "text": [
      "Model: \"sequential\"\n",
      "_________________________________________________________________\n",
      "Layer (type)                 Output Shape              Param #   \n",
      "=================================================================\n",
      "embedding (Embedding)        (None, None, 300)         15000000  \n",
      "_________________________________________________________________\n",
      "lstm (LSTM)                  (None, 100)               160400    \n",
      "_________________________________________________________________\n",
      "dense (Dense)                (None, 5)                 505       \n",
      "=================================================================\n",
      "Total params: 15,160,905\n",
      "Trainable params: 15,160,905\n",
      "Non-trainable params: 0\n",
      "_________________________________________________________________\n",
      "None\n"
     ]
    }
   ],
   "source": [
    "# 4 - Define your loss/optimizer/metrics\n",
    "\n",
    "# MODIFY CODE BELOW\n",
    "\n",
    "loss_classif     =  'categorical_crossentropy' # find the right loss for multi-class classification\n",
    "optimizer        =  'rmsprop'                  # find the right optimizer\n",
    "metrics_classif  =  ['accuracy']\n",
    "\n",
    "# Observe how easy (but blackboxed) this is in Keras\n",
    "model.compile(loss=loss_classif,\n",
    "              optimizer=optimizer,\n",
    "              metrics=metrics_classif)\n",
    "print(model.summary())"
   ]
  },
  {
   "cell_type": "code",
   "execution_count": 44,
   "metadata": {},
   "outputs": [
    {
     "name": "stdout",
     "output_type": "stream",
     "text": [
      "WARNING:tensorflow:The `nb_epoch` argument in `fit` has been renamed `epochs`.\n",
      "Train on 8544 samples, validate on 1101 samples\n",
      "Epoch 1/6\n",
      "8544/8544 [==============================] - 49s 6ms/sample - loss: 0.4109 - accuracy: 0.8571 - val_loss: 2.0151 - val_accuracy: 0.3924\n",
      "Epoch 2/6\n",
      "8544/8544 [==============================] - 49s 6ms/sample - loss: 0.3285 - accuracy: 0.8861 - val_loss: 2.1762 - val_accuracy: 0.3778\n",
      "Epoch 3/6\n",
      "8544/8544 [==============================] - 50s 6ms/sample - loss: 0.2678 - accuracy: 0.9078 - val_loss: 2.4168 - val_accuracy: 0.3733\n",
      "Epoch 4/6\n",
      "8544/8544 [==============================] - 49s 6ms/sample - loss: 0.2145 - accuracy: 0.9266 - val_loss: 2.5622 - val_accuracy: 0.3579\n",
      "Epoch 5/6\n",
      "8544/8544 [==============================] - 49s 6ms/sample - loss: 0.1787 - accuracy: 0.9393 - val_loss: 2.6242 - val_accuracy: 0.3406\n",
      "Epoch 6/6\n",
      "8544/8544 [==============================] - 49s 6ms/sample - loss: 0.1474 - accuracy: 0.9505 - val_loss: 2.8890 - val_accuracy: 0.3451\n"
     ]
    },
    {
     "data": {
      "image/png": "[encoded data removed]",
      "text/plain": [
       "<Figure size 432x288 with 1 Axes>"
      ]
     },
     "metadata": {
      "needs_background": "light"
     },
     "output_type": "display_data"
    },
    {
     "data": {
      "image/png": "[encoded data removed]",
      "text/plain": [
       "<Figure size 432x288 with 1 Axes>"
      ]
     },
     "metadata": {
      "needs_background": "light"
     },
     "output_type": "display_data"
    }
   ],
   "source": [
    "# 5 - Train your model and find the best hyperparameters for your dev set\n",
    "#     you will be evaluated on the quality of your predictions on the test set\n",
    "#     Keras expects y_train and y_dev to be one-hot encodings of the labels, i.e. with shape=(n_samples, 5)\n",
    "\n",
    "\n",
    "# ADAPT CODE BELOW\n",
    "bs = 64\n",
    "n_epochs = 6\n",
    "\n",
    "history = model.fit(x_train_pad, y_train, batch_size=bs, nb_epoch = n_epochs, validation_data = (x_dev_pad, y_dev))\n",
    "\n",
    "import matplotlib.pyplot as plt\n",
    "fig = plt.figure()\n",
    "plt.plot(history.history['loss'], label=\"Training loss\")\n",
    "plt.plot(history.history['val_loss'], label=\"Validation loss\")\n",
    "plt.legend()\n",
    "plt.title(\"Loss\")\n",
    "plt.show()\n",
    "\n",
    "fig = plt.figure()\n",
    "plt.plot(history.history['accuracy'], label=\"Training acc\")\n",
    "plt.plot(history.history['val_accuracy'], label=\"Validation acc\")\n",
    "plt.legend()\n",
    "plt.title(\"Accuracy\")\n",
    "plt.show()"
   ]
  },
  {
   "cell_type": "code",
   "execution_count": 52,
   "metadata": {},
   "outputs": [],
   "source": [
    "# 6 - Generate your predictions on the test set using model.predict(x_test)\n",
    "#     https://keras.io/models/model/\n",
    "#     Log your predictions in a file (one line = one integer: 0,1,2,3,4)\n",
    "#     Attach the output file \"logreg_lstm_y_test_sst.txt\" to your deliverable.\n",
    "\n",
    "# TYPE CODE HERE\n",
    "pred_test = np.argmax(model.predict(x_test_pad), axis = 1)\n",
    "with open(\"logreg_lstm_y_test_sst.txt\", \"w+\") as g:\n",
    "    for p in pred_test:\n",
    "        g.write(str(p) + '\\n')    "
   ]
  },
  {
   "cell_type": "markdown",
   "metadata": {},
   "source": [
    "## 4.3 - innovate !"
   ]
  },
  {
   "cell_type": "code",
   "execution_count": 58,
   "metadata": {},
   "outputs": [
    {
     "name": "stdout",
     "output_type": "stream",
     "text": [
      "Notre vocabulaire a une taille de : 16219\n",
      "Création de notre matrice d'embedding...\n",
      "Loaded 200000 pretrained word vectors\n",
      "Encoding...\n",
      "Padding\n",
      "Début du train...\n",
      "Train on 8544 samples, validate on 1101 samples\n",
      "Epoch 1/25\n",
      "8544/8544 [==============================] - 26s 3ms/step - loss: 1.5751 - accuracy: 0.2767 - val_loss: 1.5604 - val_accuracy: 0.3034\n",
      "Epoch 2/25\n",
      "8544/8544 [==============================] - 20s 2ms/step - loss: 1.5485 - accuracy: 0.3040 - val_loss: 1.4983 - val_accuracy: 0.3324\n",
      "Epoch 3/25\n",
      "8544/8544 [==============================] - 20s 2ms/step - loss: 1.4873 - accuracy: 0.3422 - val_loss: 1.4150 - val_accuracy: 0.3597\n",
      "Epoch 4/25\n",
      "8544/8544 [==============================] - 21s 2ms/step - loss: 1.4449 - accuracy: 0.3642 - val_loss: 1.3826 - val_accuracy: 0.3678\n",
      "Epoch 5/25\n",
      "8544/8544 [==============================] - 22s 3ms/step - loss: 1.4170 - accuracy: 0.3771 - val_loss: 1.3684 - val_accuracy: 0.3869\n",
      "Epoch 6/25\n",
      "8544/8544 [==============================] - 23s 3ms/step - loss: 1.3996 - accuracy: 0.3805 - val_loss: 1.3306 - val_accuracy: 0.3951\n",
      "Epoch 7/25\n",
      "8544/8544 [==============================] - 25s 3ms/step - loss: 1.3819 - accuracy: 0.3881 - val_loss: 1.3230 - val_accuracy: 0.4042\n",
      "Epoch 8/25\n",
      "8544/8544 [==============================] - 25s 3ms/step - loss: 1.3763 - accuracy: 0.3896 - val_loss: 1.3445 - val_accuracy: 0.4069\n",
      "Epoch 9/25\n",
      "8544/8544 [==============================] - 24s 3ms/step - loss: 1.3643 - accuracy: 0.3983 - val_loss: 1.3127 - val_accuracy: 0.4151\n",
      "Epoch 10/25\n",
      "8544/8544 [==============================] - 24s 3ms/step - loss: 1.3536 - accuracy: 0.4017 - val_loss: 1.2999 - val_accuracy: 0.4269\n",
      "Epoch 11/25\n",
      "8544/8544 [==============================] - 25s 3ms/step - loss: 1.3493 - accuracy: 0.4153 - val_loss: 1.3077 - val_accuracy: 0.4124\n",
      "Epoch 12/25\n",
      "8544/8544 [==============================] - 20s 2ms/step - loss: 1.3363 - accuracy: 0.4144 - val_loss: 1.2994 - val_accuracy: 0.4105\n",
      "Epoch 13/25\n",
      "8544/8544 [==============================] - 21s 2ms/step - loss: 1.3238 - accuracy: 0.4170 - val_loss: 1.2921 - val_accuracy: 0.4233\n",
      "Epoch 14/25\n",
      "8544/8544 [==============================] - 22s 3ms/step - loss: 1.3246 - accuracy: 0.4189 - val_loss: 1.2868 - val_accuracy: 0.4160\n",
      "Epoch 15/25\n",
      "8544/8544 [==============================] - 20s 2ms/step - loss: 1.3105 - accuracy: 0.4274 - val_loss: 1.3013 - val_accuracy: 0.4124\n",
      "Epoch 16/25\n",
      "8544/8544 [==============================] - 21s 2ms/step - loss: 1.2985 - accuracy: 0.4272 - val_loss: 1.2871 - val_accuracy: 0.4223\n",
      "Epoch 17/25\n",
      "8544/8544 [==============================] - 19s 2ms/step - loss: 1.3000 - accuracy: 0.4297 - val_loss: 1.2770 - val_accuracy: 0.4242\n",
      "Epoch 18/25\n",
      "8544/8544 [==============================] - 19s 2ms/step - loss: 1.2929 - accuracy: 0.4403 - val_loss: 1.2693 - val_accuracy: 0.4305\n",
      "Epoch 19/25\n",
      "8544/8544 [==============================] - 19s 2ms/step - loss: 1.2924 - accuracy: 0.4443 - val_loss: 1.2980 - val_accuracy: 0.4260\n",
      "Epoch 20/25\n",
      "8544/8544 [==============================] - 19s 2ms/step - loss: 1.2789 - accuracy: 0.4450 - val_loss: 1.2644 - val_accuracy: 0.4223\n",
      "Epoch 21/25\n",
      "8544/8544 [==============================] - 19s 2ms/step - loss: 1.2723 - accuracy: 0.4415 - val_loss: 1.2597 - val_accuracy: 0.4269\n",
      "Epoch 22/25\n",
      "8544/8544 [==============================] - 19s 2ms/step - loss: 1.2676 - accuracy: 0.4546 - val_loss: 1.2590 - val_accuracy: 0.4378\n",
      "Epoch 23/25\n",
      "8544/8544 [==============================] - 23s 3ms/step - loss: 1.2610 - accuracy: 0.4538 - val_loss: 1.2660 - val_accuracy: 0.4314\n",
      "Epoch 24/25\n",
      "8544/8544 [==============================] - 23s 3ms/step - loss: 1.2491 - accuracy: 0.4643 - val_loss: 1.2670 - val_accuracy: 0.4387\n",
      "Epoch 25/25\n",
      "8544/8544 [==============================] - 19s 2ms/step - loss: 1.2412 - accuracy: 0.4613 - val_loss: 1.2830 - val_accuracy: 0.4251\n",
      "1101/1101 [==============================] - 1s 927us/step\n",
      "perte validation: 1.283020053312629\n",
      "précision validation: 0.42506811022758484\n"
     ]
    }
   ],
   "source": [
    "from keras.preprocessing import sequence\n",
    "from keras.models import Sequential\n",
    "from keras.layers import Dense, Dropout, Activation\n",
    "from keras.layers import Embedding\n",
    "from keras.layers import LSTM\n",
    "from keras.layers import Conv1D, MaxPooling1D\n",
    "from keras.datasets import imdb\n",
    "from keras.preprocessing import text\n",
    "from keras.callbacks import ModelCheckpoint, EarlyStopping\n",
    "\n",
    "\n",
    "\n",
    "# on sépare par mot\n",
    "X_seq = [text.text_to_word_sequence(sent) for sent in x_train]\n",
    "X_dev_seq = [text.text_to_word_sequence(sent) for sent in x_dev]\n",
    "X_test_seq = [text.text_to_word_sequence(sent) for sent in x_test]\n",
    "\n",
    "#on crée notre dico de mot\n",
    "dic = {} \n",
    "count = 0\n",
    "for seq in (X_seq + X_dev_seq + X_test_seq):\n",
    "    for word in seq:\n",
    "        if word not in dic.keys():\n",
    "            #on met à jour le dico\n",
    "            dic[word] = count\n",
    "            count += 1\n",
    "\n",
    "#on réduit la taille du vocabulaire        \n",
    "vocab_size = len(dic.keys())   \n",
    "print(\"Notre vocabulaire a une taille de :\", vocab_size)\n",
    "\n",
    "#on crée notre nouvelle matrice d'embedding\n",
    "print(\"Création de notre matrice d'embedding...\")\n",
    "w2v = Word2Vec(en_embeddings_path, vocab_size=200000)\n",
    "w2v_voc = w2v.words\n",
    "w2v_emb = w2v.embeddings\n",
    "embedding_matrix = np.empty((len(dic.keys()), 300))\n",
    "for seq in (X_seq + X_dev_seq + X_test_seq):\n",
    "    for word in seq:\n",
    "        if word in w2v_voc : \n",
    "            embed = w2v_emb[w2v.word2id[word],:]\n",
    "            embedding_matrix[dic[word]] = embed\n",
    "\n",
    "\n",
    "#on encode nos phrases\n",
    "def encode(sentence):\n",
    "    \"\"\"\n",
    "    Inputs :\n",
    "    -sentence : liste de mots\n",
    "    \n",
    "    Output: \n",
    "    - l : liste des mots encodés selon le nouveau dictionnaire\n",
    "    \"\"\"\n",
    "    l = []\n",
    "    for word in sentence:\n",
    "        l.append(dic[word])   \n",
    "    return(l)\n",
    "\n",
    "print(\"Encoding...\")\n",
    "X_encoded = [encode(sentence) for sentence in X_seq]\n",
    "X_dev_encoded = [encode(sentence) for sentence in X_dev_seq]\n",
    "X_test_encoded = [encode(sentence) for sentence in X_test_seq]\n",
    "\n",
    "\n",
    "#on pad nos phrases\n",
    "print(\"Padding\")\n",
    "X_train_pad = pad_sequences(X_encoded, maxlen = 50)\n",
    "X_dev_pad = pad_sequences(X_dev_encoded, maxlen = 50)\n",
    "X_test_pad = pad_sequences(X_test_encoded, maxlen = 50)\n",
    "\n",
    "\n",
    "#hyperparamètres\n",
    "embed_dim  = 300  # word embedding dimension\n",
    "nhid       = 50  # number of hidden units in the LSTM\n",
    "vocab_size = embedding_matrix.shape[0]  # size of the vocabulary\n",
    "n_classes  = 5\n",
    "bs = 128\n",
    "n_epochs = 25\n",
    "\n",
    "\n",
    "#modèle\n",
    "mod = Sequential()\n",
    "mod.add(Embedding(vocab_size, embed_dim, trainable = False, weights = [embedding_matrix]))\n",
    "mod.add(LSTM(nhid, dropout=0.5))\n",
    "mod.add(Dense(128, activation = 'relu'))\n",
    "mod.add(Dropout(0.5))\n",
    "mod.add(Dense(n_classes, activation='softmax'))\n",
    "\n",
    "loss_classif     =  'categorical_crossentropy'\n",
    "optimizer        =  'adam' \n",
    "metrics_classif  =  ['accuracy']\n",
    "\n",
    "mod.compile(loss=loss_classif,\n",
    "              optimizer=optimizer,\n",
    "              metrics=metrics_classif)\n",
    "\n",
    "#training\n",
    "print(\"Début du train...\")\n",
    "history = mod.fit(X_train_pad, y_train, batch_size=bs, nb_epoch=n_epochs, \n",
    "                    validation_data=(X_dev_pad, y_dev))\n",
    "\n",
    "loss, acc = mod.evaluate(X_dev_pad, y_dev, batch_size=bs)\n",
    "\n",
    "print('perte validation:', loss)\n",
    "print('précision validation:', acc)"
   ]
  },
  {
   "cell_type": "code",
   "execution_count": 60,
   "metadata": {},
   "outputs": [
    {
     "data": {
      "image/png": "[encoded data removed]",
      "text/plain": [
       "<Figure size 432x288 with 1 Axes>"
      ]
     },
     "metadata": {
      "needs_background": "light"
     },
     "output_type": "display_data"
    },
    {
     "data": {
      "image/png": "[encoded data removed]",
      "text/plain": [
       "<Figure size 432x288 with 1 Axes>"
      ]
     },
     "metadata": {
      "needs_background": "light"
     },
     "output_type": "display_data"
    }
   ],
   "source": [
    "import matplotlib.pyplot as plt\n",
    "fig = plt.figure()\n",
    "plt.plot(history.history['loss'], label=\"Training loss\")\n",
    "plt.plot(history.history['val_loss'], label=\"Validation loss\")\n",
    "plt.legend()\n",
    "plt.title(\"Loss\")\n",
    "\n",
    "fig = plt.figure()\n",
    "plt.plot(history.history['accuracy'], label=\"Training acc\")\n",
    "plt.plot(history.history['val_accuracy'], label=\"Validation acc\")\n",
    "plt.legend()\n",
    "plt.title(\"Accuracy\")\n",
    "\n",
    "pred_test = np.argmax(mod.predict(X_test_pad), axis = 1)\n",
    "\n",
    "with open(\"XXX_XXX_y_test-sst.txt\", \"w+\") as file:\n",
    "    for p in pred_test:\n",
    "        file.write(str(p) + '\\n') "
   ]
  }
 ],
 "metadata": {
  "kernelspec": {
   "display_name": "Python 3",
   "language": "python",
   "name": "python3"
  },
  "language_info": {
   "codemirror_mode": {
    "name": "ipython",
    "version": 3
   },
   "file_extension": ".py",
   "mimetype": "text/x-python",
   "name": "python",
   "nbconvert_exporter": "python",
   "pygments_lexer": "ipython3",
   "version": "3.7.4"
  }
 },
 "nbformat": 4,
 "nbformat_minor": 4
}
