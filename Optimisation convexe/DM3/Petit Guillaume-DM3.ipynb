{
 "cells": [
  {
   "cell_type": "code",
   "execution_count": 1,
   "metadata": {},
   "outputs": [],
   "source": [
    "import numpy as np\n",
    "import scipy as sc\n",
    "import matplotlib.pyplot as plt\n",
    "from scipy.linalg import inv\n"
   ]
  },
  {
   "cell_type": "code",
   "execution_count": 2,
   "metadata": {},
   "outputs": [],
   "source": [
    "#gradient\n",
    "def gradG(Q,p,A,b,t,v):\n",
    "    d = 1 / (b - np.dot(A, v))\n",
    "    grad = t * ((Q.T + Q).dot(v) + p) + A.T.dot(d)\n",
    "    return (grad)\n",
    "\n",
    "\n",
    "#hessienne  \n",
    "def hessianG(Q, p, A, b, t, v):\n",
    "    d = 1 / (b - np.dot(A, v))\n",
    "    G = (d**2)*np.eye(A.shape[0])\n",
    "    return(t * (Q.T + Q) + A.T.dot(G.dot(A)))\n",
    "\n",
    "def f(Q,p,A,b,t,v):\n",
    "    if min([b[i]-A[i].dot(v) for i in range(A.shape[0])]) <= 0:\n",
    "        return +1e10\n",
    "    else:\n",
    "        return t*v.T.dot(Q).dot(v) + t*p.T.dot(v) - sum(np.log(b - A.dot(v)))\n",
    "\n",
    "\n",
    "#backtracking\n",
    "def backtracking(Q,p,A,b,t,v, delta, Ndec2, alpha = 0.1, beta= 0.7):\n",
    "    u = 1\n",
    "    while not(((b-A.dot( v+ u * delta))>0).all()) or (f(Q,p,A,b,t, v+ u *delta) > f(Q,p,A,b,t,v) + alpha* u * (-Ndec2)):\n",
    "        u = beta * u\n",
    "        \n",
    "    return u"
   ]
  },
  {
   "cell_type": "code",
   "execution_count": 3,
   "metadata": {},
   "outputs": [],
   "source": [
    "def centering_step (Q, p, A, b, t, v0, eps):\n",
    "    nitermax = 100 #seuil\n",
    "    \n",
    "    #on défint alpha et beta du backtracking\n",
    "    alpha = 0.01\n",
    "    beta = 0.5\n",
    "    \n",
    "    #Initialisation\n",
    "    v = v0\n",
    "    seq = [v]\n",
    "    count = 0\n",
    "    \n",
    "    for i in range(nitermax):\n",
    "        \n",
    "        #On définit la gradient, la hessienne\n",
    "        d = 1 / (b - np.dot(A, v))\n",
    "        grad = gradG(Q, p, A, b, t, v)\n",
    "        hess = hessianG(Q, p, A, b, t, v)\n",
    "\n",
    " \n",
    "        #on définit delta\n",
    "        L = np.linalg.cholesky(hess)\n",
    "        w = np.linalg.solve(L, - grad)\n",
    "        delta = np.linalg.solve(L.T, w)\n",
    "\n",
    "        #On définit le décrément de Newton (ici on a lambda^2)\n",
    "        Ndec2 = w.T.dot(w)\n",
    "        \n",
    "        \n",
    "        if 0.5 * Ndec2 < eps :\n",
    "            return (seq[-1], count)\n",
    "        \n",
    "        else :\n",
    "            count += 1 \n",
    "            u = backtracking(Q, p, A, b, t, v, delta, Ndec2, alpha, beta)\n",
    "            \n",
    "            #update    \n",
    "            v = v + u * delta \n",
    "            seq.append(v) \n",
    "\n",
    "            \n",
    "    return(seq[-1], count)"
   ]
  },
  {
   "cell_type": "code",
   "execution_count": 4,
   "metadata": {},
   "outputs": [],
   "source": [
    "def barr_method(Q, p, A, b, v0, mu, eps=0.001):\n",
    "    \n",
    "    #conditions sont respectées ou pas\n",
    "    if (A.dot(v0) >= b ).all() :\n",
    "        return(\"les conditions d'inégalités ne sont pas respectées\")\n",
    "    \n",
    "    nitermax = 100\n",
    "    \n",
    "    m = A.shape[0]                #nombre de contraintes (lié au problème original)\n",
    "    t = 1                         #le t pour une précision epsilon\n",
    "    \n",
    "    seq = [v0]\n",
    "    n_eps = [0]\n",
    "    #barrière méthode\n",
    "    \n",
    "    for i in range(nitermax):\n",
    "        \n",
    "        #on cherche le vstar qui maximise la fonction barrière\n",
    "        v, compteur = centering_step(Q, p, A, b, t, v0, eps)\n",
    "\n",
    "        v0 = v\n",
    "        seq.append(v0)\n",
    "        n_eps.append(n_eps[-1]+compteur)\n",
    "\n",
    "    \n",
    "        if m/t < eps :\n",
    "            return(seq, n_eps)\n",
    "        \n",
    "        else :\n",
    "            t *= mu\n",
    "            \n",
    "    return (seq, n_eps)"
   ]
  },
  {
   "cell_type": "code",
   "execution_count": 7,
   "metadata": {},
   "outputs": [],
   "source": [
    "n = 10\n",
    "d = 50\n",
    "#généré aléatoirement à partir dune loi normale(0,1)\n",
    "X = np.random.randn(n,d)\n",
    "\n",
    "#fonction de X\n",
    "A = np.vstack((X.T, -X.T))\n",
    "\n",
    "#généré aléatoirement à partir d'une loi norme (0,1)\n",
    "w0 = np.random.random_sample(size = d)\n",
    "y = X.dot(w0) + np.random.rand(n)\n",
    "p = y\n",
    "\n",
    "#Q fixé\n",
    "Q = 0.5 * np.eye(n)\n",
    "\n",
    "#fixe car dépend de lambda fixé\n",
    "b = 10 * np.ones(2 * d)\n",
    "\n",
    "#v0 généré aléatoirement\n",
    "v0 = np.zeros(n)\n",
    "\n",
    "eps = 0.001\n"
   ]
  },
  {
   "cell_type": "code",
   "execution_count": 8,
   "metadata": {},
   "outputs": [
    {
     "name": "stderr",
     "output_type": "stream",
     "text": [
      "The PostScript backend does not support transparency; partially transparent artists will be rendered opaque.\n",
      "The PostScript backend does not support transparency; partially transparent artists will be rendered opaque.\n"
     ]
    },
    {
     "data": {
      "image/png": "[encoded data removed]",
      "text/plain": [
       "<Figure size 720x576 with 1 Axes>"
      ]
     },
     "metadata": {
      "needs_background": "light"
     },
     "output_type": "display_data"
    }
   ],
   "source": [
    "plt.figure(figsize=(10,8)) \n",
    "plt.suptitle('Methode de la barrière', size = 20)\n",
    "\n",
    "for mu in [2,15,50,100,250]:\n",
    "    vt, n_eps = barr_method(Q,p,A,b,v0, mu ,0.0001)\n",
    "    vstar = vt[-1]\n",
    "    values = [(x.T.dot(Q.dot(x)) + p.T.dot(x)) - (vstar.T.dot(Q.dot(vstar)) + p.T.dot(vstar)) for x in vt]\n",
    "    plt.step(n_eps, values, label='mu='+str(mu))\n",
    "    \n",
    "plt.legend(loc = 'upper right')\n",
    "plt.semilogy()\n",
    "plt.xlabel(\"Nombre d'itérations de Newton\", size = 15)\n",
    "plt.ylabel('$Log (f(v_t)-f^*)$', size = 15)\n",
    "plt.savefig(\"plot.eps\")\n",
    "plt.show()"
   ]
  },
  {
   "cell_type": "code",
   "execution_count": 24,
   "metadata": {},
   "outputs": [],
   "source": [
    "#on cherche à retrouver w* qui est lié par Xwstar = vstar + y\n",
    "wstar = []\n",
    "for mu in [2,15,50,100,250]:\n",
    "    vt, n_epsilons = barr_method(Q,p,A,b,v0, mu ,0.0001)\n",
    "    vstar = vt[-1]\n",
    "    wstar.append(np.linalg.lstsq(X, vstar - y, rcond = None)[0])\n",
    "    \n"
   ]
  },
  {
   "cell_type": "code",
   "execution_count": null,
   "metadata": {},
   "outputs": [],
   "source": []
  }
 ],
 "metadata": {
  "kernelspec": {
   "display_name": "Python 3",
   "language": "python",
   "name": "python3"
  },
  "language_info": {
   "codemirror_mode": {
    "name": "ipython",
    "version": 3
   },
   "file_extension": ".py",
   "mimetype": "text/x-python",
   "name": "python",
   "nbconvert_exporter": "python",
   "pygments_lexer": "ipython3",
   "version": "3.7.4"
  }
 },
 "nbformat": 4,
 "nbformat_minor": 2
}
